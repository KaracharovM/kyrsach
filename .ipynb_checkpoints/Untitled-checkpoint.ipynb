{
 "cells": [
  {
   "cell_type": "markdown",
   "id": "d21654a8",
   "metadata": {},
   "source": [
    "                                              Курсовая работа по дисциплине\n",
    "                                       “Методология и инструменты анализа данных”\n",
    "                     Цель работы\n",
    "Продемонстрировать владение основными инструментальными средствами\n",
    "библиотек языка программирования Python, методами и приемами\n",
    "подготовительного и описательного анализа данных, средствами\n",
    "визуализации данных, использования и усовершенствования обучаемых\n",
    "моделей, умение делать выводы из проведенного анализа.\n",
    "\n",
    "                     Тема работы:\n",
    "\"Прогнозирование и анализиование курса юани методами анализа данных\"\n",
    "\n",
    "                     Задания для выполнения\n",
    "1. Выбрать набор данных для анализа. В соответствии с выбранной\n",
    "темой курсовой работы. Описать этот набор и решаемую задачу.\n",
    "\n",
    "                     Описание:\n",
    "                     \n",
    "   Выбираем набор анализа данных :\n",
    "Курс юани на период с 01.01.1981 по 01.11.2023\n",
    "   \n",
    "   Предварительный анализ :\n",
    "Набор данных состоит из двух колонок : даты ,на момент которой фиксируется курс и самого курса.\n",
    "Колонка даты называется : \" DATE \" , колонка курса называется : \" EXCHUS \".\n",
    "Данная таблица показывает отношение юани к курсу доллара с 1981 года по 2023 год.\n",
    "   \n",
    "   Задача :\n",
    "Прогназирование и анализирование данных курса \n",
    "\n",
    "2. Провести предварительный анализ и очистку данных. Этот этап\n",
    "включает в себя вывод информации о количественных\n",
    "характеристиках датасета, информацию об отсутствующих\n",
    "значениях, характеристиках и физическом смысле каждого атрибута\n",
    "данных, его значимости для предсказания целевой переменной,\n",
    "вывод нескольких точек данных для иллюстрации структуры данных.\n",
    "\n",
    "                    Описание:\n",
    "    Выбираем библиотеки :"
   ]
  },
  {
   "cell_type": "code",
   "execution_count": 20,
   "id": "7166571f",
   "metadata": {},
   "outputs": [],
   "source": [
    "# подключение библиотек\n",
    "import pandas as pd\n",
    "import numpy as np\n",
    "import matplotlib.pyplot as plt\n",
    "import matplotlib.style as style\n",
    "import seaborn as sns"
   ]
  },
  {
   "cell_type": "markdown",
   "id": "6a89e1c6",
   "metadata": {},
   "source": [
    "   1:Загружаем файл:\n",
    "   2:Выводим данные первых 5 и последних 5 колонок.\n",
    "   Смотрим разницу курса в первые и последние 5 лет"
   ]
  },
  {
   "cell_type": "code",
   "execution_count": 11,
   "id": "3108dc18",
   "metadata": {},
   "outputs": [
    {
     "name": "stdout",
     "output_type": "stream",
     "text": [
      "           DATE  EXCHUS\n",
      "0    1981-01-01  1.5518\n",
      "1    1981-02-01  1.6131\n",
      "2    1981-03-01  1.6314\n",
      "3    1981-04-01  1.6660\n",
      "4    1981-05-01  1.7270\n",
      "..          ...     ...\n",
      "510  2023-07-01  7.1863\n",
      "511  2023-08-01  7.2486\n",
      "512  2023-09-01  7.2979\n",
      "513  2023-10-01  7.3071\n",
      "514  2023-11-01  7.2226\n",
      "\n",
      "[515 rows x 2 columns]\n"
     ]
    }
   ],
   "source": [
    "# чтение из файла\n",
    "currency = pd.read_csv(\"C:\\\\EXCHUS.csv\")\n",
    "# вывод 5 первых и 5 последних колонн\n",
    "print(currency)\n"
   ]
  },
  {
   "cell_type": "markdown",
   "id": "d0c80282",
   "metadata": {},
   "source": [
    "   3:Выводим основную информацию о данных"
   ]
  },
  {
   "cell_type": "code",
   "execution_count": 12,
   "id": "a8ef1bab",
   "metadata": {},
   "outputs": [
    {
     "name": "stdout",
     "output_type": "stream",
     "text": [
      "<class 'pandas.core.frame.DataFrame'>\n",
      "RangeIndex: 515 entries, 0 to 514\n",
      "Data columns (total 2 columns):\n",
      " #   Column  Non-Null Count  Dtype  \n",
      "---  ------  --------------  -----  \n",
      " 0   DATE    515 non-null    object \n",
      " 1   EXCHUS  515 non-null    float64\n",
      "dtypes: float64(1), object(1)\n",
      "memory usage: 8.2+ KB\n",
      "None\n"
     ]
    }
   ],
   "source": [
    "# вывод типов данных\n",
    "print(currency.info())"
   ]
  },
  {
   "cell_type": "markdown",
   "id": "63353a77",
   "metadata": {},
   "source": [
    "   4:Проводим очистку данных"
   ]
  },
  {
   "cell_type": "code",
   "execution_count": 13,
   "id": "5b30b46a",
   "metadata": {},
   "outputs": [
    {
     "name": "stdout",
     "output_type": "stream",
     "text": [
      "<class 'pandas.core.frame.DataFrame'>\n",
      "RangeIndex: 515 entries, 0 to 514\n",
      "Data columns (total 2 columns):\n",
      " #   Column  Non-Null Count  Dtype         \n",
      "---  ------  --------------  -----         \n",
      " 0   DATE    515 non-null    datetime64[ns]\n",
      " 1   EXCHUS  515 non-null    float64       \n",
      "dtypes: datetime64[ns](1), float64(1)\n",
      "memory usage: 8.2 KB\n",
      "None\n"
     ]
    }
   ],
   "source": [
    "# замена object на datetime64[ns] для более удобного использования в дальнейшем\n",
    "currency['DATE'] = currency['DATE'].str.replace('-', '/')\n",
    "currency['DATE'] = pd.to_datetime(currency['DATE'])\n",
    "print(currency.info())"
   ]
  },
  {
   "cell_type": "markdown",
   "id": "ff8154ce",
   "metadata": {},
   "source": [
    "1.Количественные характеристики : 515 rows x 2 columns\n",
    "\n",
    "2.Отсутствующие значения : нет\n"
   ]
  },
  {
   "cell_type": "markdown",
   "id": "52cd3c84",
   "metadata": {},
   "source": [
    "4.Провести описательный анализ данных. Сделать выводы. Этот этап\n",
    "включает в себя определение шкалы измерения каждого признака,\n",
    "выявление аномальных значений, визуализацию распределения\n",
    "каждого признака, при необходимости - проверка на нормальность,\n",
    "построение кореллограмм и совместных распределений каждого\n",
    "признака с целевой переменной, выявление коррелированных\n",
    "признаков и признаков, не несущих информации для данной задачи.\n",
    "\n",
    "1)Строим график курса юани к доллару относительно промежутка времени."
   ]
  },
  {
   "cell_type": "code",
   "execution_count": 14,
   "id": "b6d44eed",
   "metadata": {},
   "outputs": [
    {
     "data": {
      "image/png": "[encoded data removed]",
      "text/plain": [
       "<Figure size 432x288 with 1 Axes>"
      ]
     },
     "metadata": {
      "needs_background": "light"
     },
     "output_type": "display_data"
    }
   ],
   "source": [
    "# Пример построения графика курса\n",
    "# Визуализация\n",
    "# График курса , основанный на дате и курсе валюты\n",
    "fig, ax = plt.subplots()\n",
    "x = currency['DATE']\n",
    "y = currency['EXCHUS']\n",
    "ax.plot(x, y)\n",
    "plt.show()"
   ]
  },
  {
   "cell_type": "markdown",
   "id": "10fb4265",
   "metadata": {},
   "source": [
    "Описание: график показывает изменение курса с 1980 года по 2023.\n",
    "на графике видно,насколько сильно изменились данные курса.\n",
    "Сначала за 1 доллар можно было купить всего лишь полтора юаня.\n",
    "Сейчас же за 1 доллар можно приобрести 7.18 юаней."
   ]
  },
  {
   "cell_type": "markdown",
   "id": "0e5e709f",
   "metadata": {},
   "source": [
    "2)Строим график частоты каждого значения курса."
   ]
  },
  {
   "cell_type": "code",
   "execution_count": 21,
   "id": "1c9a7ca7",
   "metadata": {},
   "outputs": [
    {
     "data": {
      "image/png": "[encoded data removed]",
      "text/plain": [
       "<Figure size 720x432 with 1 Axes>"
      ]
     },
     "metadata": {
      "needs_background": "light"
     },
     "output_type": "display_data"
    }
   ],
   "source": [
    "# Распределение обменного курса\n",
    "# Гистограмма обменного курса\n",
    "plt.figure(figsize=(10, 6))\n",
    "sns.histplot(currency['EXCHUS'], bins=30, kde=True)\n",
    "plt.title('Распределение обменного курса юаня')\n",
    "plt.xlabel('Курс')\n",
    "plt.ylabel('Частота')\n",
    "plt.show()\n"
   ]
  },
  {
   "cell_type": "markdown",
   "id": "e311fca6",
   "metadata": {},
   "source": [
    "Описание: На данном графике показана частота появления того либо иного курса"
   ]
  },
  {
   "cell_type": "markdown",
   "id": "4e273cd7",
   "metadata": {},
   "source": [
    "3)Значимую роль играл в истории курса китайской валюты и кризис 2008-2013 годов. \n",
    "Проведем анализ изменения курса юани по отношению к доллару :"
   ]
  },
  {
   "cell_type": "code",
   "execution_count": 25,
   "id": "3df736d7",
   "metadata": {},
   "outputs": [
    {
     "name": "stdout",
     "output_type": "stream",
     "text": [
      "Минимальный курс во время кризиса 6.07. Максимальный курс во время кризиса 8.05.\n",
      "Минимальный курс после кризиса 6.08. Максимальный курс после кризиса 7.11.\n",
      "Средний обменный курс во время кризиса 6.87.\n",
      "Средний обменный курс после кризиса 6.57.\n"
     ]
    },
    {
     "data": {
      "image/png": "[encoded data removed]",
      "text/plain": [
       "<Figure size 1080x360 with 1 Axes>"
      ]
     },
     "metadata": {
      "needs_background": "light"
     },
     "output_type": "display_data"
    }
   ],
   "source": [
    "# Удаляем колонки до 2006 года\n",
    "currency = currency.loc[currency['DATE'] > '2006']\n",
    "# Удаляем колонки после 2020 года\n",
    "currency = currency.loc[currency['DATE'] < '2020']\n",
    "# Добавляем скользящую среднюю\n",
    "currency['rolling_mean'] = currency['EXCHUS'].rolling(30).mean()\n",
    "\n",
    "# Сортируем данные до 2014 года\n",
    "crisis = currency[currency['DATE'] < '2014']\n",
    "# Сортируем даные после 2014 года\n",
    "after = currency[currency['DATE'] > '2014']\n",
    "periods = [crisis, after]\n",
    "\n",
    "# Сохранение самого низкого обменного курса во время кризиса\n",
    "crisis_min = crisis['EXCHUS'].min()\n",
    "# Наибольший курс во время кризиса\n",
    "crisis_max = crisis['EXCHUS'].max()\n",
    "# Низший курс во время кризиса\n",
    "after_min = after['EXCHUS'].min()\n",
    "# Высший курс во время кризиса\n",
    "after_max = after['EXCHUS'].max()\n",
    "print(f'Минимальный курс во время кризиса {crisis_min:.3}.', end=' ')\n",
    "print(f'Максимальный курс во время кризиса {crisis_max:.3}.')\n",
    "print(f'Минимальный курс после кризиса {after_min:.3}.', end=' ')\n",
    "print(f'Максимальный курс после кризиса {after_max:.3}.')\n",
    "\n",
    "# Сохранение среднего значения обменного курса в период кризиса и округление его до 2 десятичных знаков.\n",
    "crisis_mean = round(crisis['EXCHUS'].mean(), 2)\n",
    "# после\n",
    "after_mean = round(after['EXCHUS'].mean(), 2)\n",
    "print(f'Средний обменный курс во время кризиса {crisis_mean}.')\n",
    "print(f'Средний обменный курс после кризиса {after_mean}.')\n",
    "\n",
    "#Вывод\n",
    "fig = plt.figure(figsize=(15, 5))\n",
    "ax = fig.add_subplot()\n",
    "label1 = \"Средняя скользящая курса во время всемирного кризиса 2008-2013\"\n",
    "label2 = \"Средняя скользящая курса после всемирного кризиса 2008-2013\"\n",
    "ax.plot(crisis['DATE'],crisis['rolling_mean'],label=label1)\n",
    "ax.plot(after['DATE'],after['rolling_mean'],color='green',label=label2)\n",
    "ax.legend(ncol=2, title='Описание', framealpha=0.7, fontsize=12)\n",
    "ax.grid(visible=True)\n",
    "plt.show()"
   ]
  },
  {
   "cell_type": "markdown",
   "id": "be34700f",
   "metadata": {},
   "source": [
    "Описание:Во время кризиса курс юани начинал расти , относительно упадка доллара.\n",
    "         После окончания кризиса китайская валюта начала медленно падать ,относительно американской валюты."
   ]
  },
  {
   "cell_type": "code",
   "execution_count": null,
   "id": "9e4388ea",
   "metadata": {},
   "outputs": [],
   "source": []
  }
 ],
 "metadata": {
  "kernelspec": {
   "display_name": "Python 3 (ipykernel)",
   "language": "python",
   "name": "python3"
  },
  "language_info": {
   "codemirror_mode": {
    "name": "ipython",
    "version": 3
   },
   "file_extension": ".py",
   "mimetype": "text/x-python",
   "name": "python",
   "nbconvert_exporter": "python",
   "pygments_lexer": "ipython3",
   "version": "3.9.12"
  }
 },
 "nbformat": 4,
 "nbformat_minor": 5
}
